{
 "cells": [
  {
   "cell_type": "code",
   "execution_count": 1,
   "id": "2aa08d80-31c9-40a1-889c-dc6465739914",
   "metadata": {},
   "outputs": [],
   "source": [
    "import pandas as pd\n",
    "import numpy as np\n",
    "rnd = 384"
   ]
  },
  {
   "cell_type": "code",
   "execution_count": 2,
   "id": "6392e3ab-2ef1-4409-b1db-9c09cb231175",
   "metadata": {},
   "outputs": [],
   "source": [
    "from exp.data import load_image_dataset, load_tabular_dataset\n",
    "\n",
    "dataset_name = 'MNIST'\n",
    "\n",
    "X_train, X_test, Y_train, Y_test, train_loader, test_loader = load_image_dataset(dataset_name, './data/')"
   ]
  },
  {
   "cell_type": "code",
   "execution_count": 3,
   "id": "1e88c48c-34fd-47bc-b38a-1960a028ed80",
   "metadata": {},
   "outputs": [],
   "source": [
    "X_train = X_train[np.logical_or(Y_train==0,Y_train==8)]\n",
    "X_test = X_test[np.logical_or(Y_test==0,Y_test==8)]\n",
    "Y_train = Y_train[np.logical_or(Y_train==0, Y_train==8)]\n",
    "Y_test = Y_test[np.logical_or(Y_test==0, Y_test==8)]"
   ]
  },
  {
   "cell_type": "code",
   "execution_count": 4,
   "id": "5d65b740-5e84-4ffe-aa8d-de5e20d37bc8",
   "metadata": {},
   "outputs": [],
   "source": [
    "import torch\n",
    "import torch.nn as nn\n",
    "\n",
    "class LinearModel(nn.Module):\n",
    "    def __init__(self, input_shape, latent_dim):\n",
    "        super(LinearModel, self).__init__()\n",
    "\n",
    "        # encoding components\n",
    "        self.fc1 = nn.Linear(input_shape, latent_dim)\n",
    "\n",
    "    def encode(self, x):\n",
    "        x = self.fc1(x)\n",
    "        return x\n",
    "\n",
    "    def forward(self, x):\n",
    "        z = self.encode(x)\n",
    "        return z\n",
    "    \n",
    "latent_dim = 30\n",
    "model = LinearModel(X_train.shape[1],latent_dim)"
   ]
  },
  {
   "cell_type": "code",
   "execution_count": 5,
   "id": "5e723ea0-44e0-40a7-ac21-a707f7f9586a",
   "metadata": {},
   "outputs": [
    {
     "data": {
      "text/plain": [
       "<All keys matched successfully>"
      ]
     },
     "execution_count": 5,
     "metadata": {},
     "output_type": "execute_result"
    }
   ],
   "source": [
    "model.load_state_dict(torch.load(f'./models/{dataset_name}_LinearTransparent_latent_{latent_dim}.pt'))"
   ]
  },
  {
   "cell_type": "code",
   "execution_count": 6,
   "id": "de830e98-f057-4d38-b294-7ebdb9a4a45b",
   "metadata": {},
   "outputs": [],
   "source": [
    "with torch.no_grad():\n",
    "    Z_train = model(torch.tensor(X_train,dtype=torch.float32)).numpy()\n",
    "    Z_test = model(torch.tensor(X_test,dtype=torch.float32)).numpy()"
   ]
  },
  {
   "cell_type": "code",
   "execution_count": 7,
   "id": "0015749f-66be-4a0f-9a55-916966230a91",
   "metadata": {},
   "outputs": [],
   "source": [
    "from sklearn.neighbors import KNeighborsClassifier\n",
    "neigh = KNeighborsClassifier(n_neighbors=20)\n",
    "neigh.fit(Z_train, Y_train)\n",
    "KNN_pred = neigh.predict(Z_train)"
   ]
  },
  {
   "cell_type": "code",
   "execution_count": 8,
   "id": "0627f540-6a46-4a7e-b275-c5ee5c9f0dce",
   "metadata": {},
   "outputs": [
    {
     "data": {
      "text/plain": [
       "0.9953940634595702"
      ]
     },
     "execution_count": 8,
     "metadata": {},
     "output_type": "execute_result"
    }
   ],
   "source": [
    "neigh.score(Z_test,Y_test)"
   ]
  },
  {
   "cell_type": "code",
   "execution_count": 9,
   "id": "c949b594-771e-4ee1-bac4-306947d14ef7",
   "metadata": {},
   "outputs": [],
   "source": [
    "from scipy.spatial import distance\n",
    "\n",
    "def find_changes(start_point, end_point=None, z_end=None, max_iter=5, debug=False):\n",
    "    \n",
    "    if z_end is None:\n",
    "        z_end   = model(torch.tensor(end_point,dtype=torch.float32)).detach().numpy()\n",
    "    z_start = model(torch.tensor(start_point,dtype=torch.float32)).detach().numpy()\n",
    "    \n",
    "    w = model.fc1.weight.detach().numpy()\n",
    "    b = model.fc1.bias.detach().numpy()\n",
    "    \n",
    "    mods = np.zeros(len(start_point[0,:]))\n",
    "    \n",
    "    x_mod = start_point.copy()+mods\n",
    "    z_mod = model(torch.tensor(x_mod).float()).detach().reshape(1,-1).numpy()\n",
    "\n",
    "    pred = int(neigh.predict(z_start))\n",
    "    pred_mod = int(neigh.predict(z_mod))\n",
    "    j = 1\n",
    "    dist = distance.euclidean(z_end,z_mod)\n",
    "    \n",
    "    while pred == pred_mod:\n",
    "        if debug:\n",
    "            print(distance.euclidean(z_end,z_mod))\n",
    "        proj = z_end - z_mod\n",
    "        d = np.argsort(np.abs(proj.dot(w)))\n",
    "        d_mods = []\n",
    "        for i in range(-784,0):\n",
    "            x_mod_prop = x_mod.copy()\n",
    "            idx = d[0, i]\n",
    "            mod = np.sum((z_end-(np.sum(x_mod[0,:idx]*w[:,:idx],axis=1)+np.sum(x_mod[0,idx+1:]*w[:,idx+1:],axis=1))-b)*w[:,idx])/(np.sum(w[:,idx]**2))\n",
    "            mod = np.clip(mod,0,1)\n",
    "            x_mod_prop[0, idx] = mod\n",
    "            z_mod_prop = model(torch.tensor(x_mod_prop).float()).detach().reshape(1,-1).numpy()\n",
    "            d_mods.append(distance.euclidean(z_end,z_mod_prop))\n",
    "        idx = d[0,range(-784,0)[np.argmin(d_mods)]]\n",
    "        mod = np.sum((z_end-(np.sum(x_mod[0,:idx]*w[:,:idx],axis=1)+np.sum(x_mod[0,idx+1:]*w[:,idx+1:],axis=1))-b)*w[:,idx])/(np.sum(w[:,idx]**2))\n",
    "        mod = np.clip(mod,0,1)\n",
    "        mods[idx] += mod - x_mod[0,idx]\n",
    "        x_mod[0, idx] = mod\n",
    "        z_mod = model(torch.tensor(x_mod).float()).detach().reshape(1,-1).numpy()\n",
    "        \n",
    "        if distance.euclidean(z_end,z_mod) == dist:\n",
    "            j +=1\n",
    "        else:\n",
    "            j = 1\n",
    "            dist = distance.euclidean(z_end,z_mod)\n",
    "        \n",
    "        if j == max_iter:\n",
    "            break\n",
    "        \n",
    "        pred_mod = int(neigh.predict(z_mod))\n",
    "        if debug:\n",
    "            print(pred,pred_mod)\n",
    "            print(j)\n",
    "        \n",
    "    return mods"
   ]
  },
  {
   "cell_type": "code",
   "execution_count": 10,
   "id": "1477536a-9e7b-4d95-800e-627d212d45fb",
   "metadata": {},
   "outputs": [
    {
     "data": {
      "text/plain": [
       "0"
      ]
     },
     "execution_count": 10,
     "metadata": {},
     "output_type": "execute_result"
    }
   ],
   "source": [
    "def predict(q):\n",
    "    return neigh.predict(model(torch.tensor(q).float()).detach())\n",
    "\n",
    "idx = 1\n",
    "q = X_test[idx].reshape(1,-1).copy()\n",
    "pred = int(predict(q))\n",
    "pred"
   ]
  },
  {
   "cell_type": "code",
   "execution_count": 11,
   "id": "89ea4706-ed36-49e1-8b19-455cd7b20ec6",
   "metadata": {},
   "outputs": [
    {
     "data": {
      "image/png": "[encoded data removed]",
      "text/plain": [
       "<Figure size 432x288 with 1 Axes>"
      ]
     },
     "metadata": {
      "needs_background": "light"
     },
     "output_type": "display_data"
    }
   ],
   "source": [
    "plt.imshow(q.reshape(28,28),cmap='gray')\n",
    "plt.axis(False);"
   ]
  },
  {
   "cell_type": "code",
   "execution_count": 12,
   "id": "b96f7bdd-34a2-4bf7-84cb-8fc86245e186",
   "metadata": {},
   "outputs": [],
   "source": [
    "centroid_0 = np.mean(Z_train[Y_train==0],axis=0)\n",
    "centroid_8 = np.mean(Z_train[Y_train==8],axis=0)\n",
    "\n",
    "mods = find_changes(q, z_end=centroid_8, debug=False)"
   ]
  },
  {
   "cell_type": "code",
   "execution_count": 13,
   "id": "997deda6-8e3e-4dda-863e-54be10e98f08",
   "metadata": {},
   "outputs": [
    {
     "data": {
      "image/png": "[encoded data removed]",
      "text/plain": [
       "<Figure size 432x288 with 1 Axes>"
      ]
     },
     "metadata": {
      "needs_background": "light"
     },
     "output_type": "display_data"
    }
   ],
   "source": [
    "plt.imshow((q+mods).reshape(28,28),cmap='gray')\n",
    "plt.axis(False);"
   ]
  },
  {
   "cell_type": "markdown",
   "id": "8ecfcfb7-f067-4ef2-a8fd-240d809909c8",
   "metadata": {},
   "source": [
    "# Gradient descend Input space"
   ]
  },
  {
   "cell_type": "code",
   "execution_count": 16,
   "id": "79784c8c-a394-4de9-a414-869417968316",
   "metadata": {},
   "outputs": [],
   "source": [
    "def predict(q):\n",
    "    return neigh.predict(model(torch.tensor(q).float()).detach())"
   ]
  },
  {
   "cell_type": "code",
   "execution_count": 17,
   "id": "8bdc4c44-56e5-4b2f-b4b8-f1a9477f0624",
   "metadata": {},
   "outputs": [
    {
     "data": {
      "text/plain": [
       "0"
      ]
     },
     "execution_count": 17,
     "metadata": {},
     "output_type": "execute_result"
    }
   ],
   "source": [
    "q = X_test[idx].reshape(1,-1).copy()\n",
    "pred = int(predict(q))\n",
    "pred"
   ]
  },
  {
   "cell_type": "code",
   "execution_count": 18,
   "id": "f2b9ee04-2caa-4ee5-b5c0-55abda9db210",
   "metadata": {},
   "outputs": [],
   "source": [
    "mods = X_test[idx].reshape(1,-1).copy()\n",
    "mods = torch.nn.parameter.Parameter(torch.tensor(mods, requires_grad=True).float())\n",
    "loss = torch.nn.MSELoss()"
   ]
  },
  {
   "cell_type": "code",
   "execution_count": 19,
   "id": "b06647de-ec52-44c4-b8c4-ad9856ccdad6",
   "metadata": {},
   "outputs": [
    {
     "data": {
      "text/plain": [
       "tensor(2.1183, grad_fn=<MseLossBackward0>)"
      ]
     },
     "execution_count": 19,
     "metadata": {},
     "output_type": "execute_result"
    }
   ],
   "source": [
    "loss(torch.tensor(centroid_8).reshape(1,-1),model(mods))"
   ]
  },
  {
   "cell_type": "code",
   "execution_count": 20,
   "id": "117fe3c5-a559-4ebc-be2d-ce2568a3a772",
   "metadata": {},
   "outputs": [],
   "source": [
    "opt = torch.optim.Adam([mods],lr=0.001)"
   ]
  },
  {
   "cell_type": "code",
   "execution_count": 24,
   "id": "6c2eb181-4e26-42e5-a6cf-327b75cb6782",
   "metadata": {},
   "outputs": [],
   "source": [
    "from tqdm.notebook import tqdm\n",
    "total_loss = []\n",
    "\n",
    "while pred == 0:\n",
    "    loss_epoch = loss(torch.tensor(centroid_8).reshape(1,-1),model(mods)) \n",
    "    total_loss.append(loss_epoch.item())\n",
    "    loss_epoch.backward()\n",
    "    opt.step()\n",
    "    opt.zero_grad()\n",
    "    pred = int(neigh.predict(model(mods).detach().numpy()))"
   ]
  },
  {
   "cell_type": "code",
   "execution_count": 25,
   "id": "a5da954d-857b-42af-9434-383e3cb1499f",
   "metadata": {},
   "outputs": [
    {
     "data": {
      "image/png": "[encoded data removed]",
      "text/plain": [
       "<Figure size 432x288 with 1 Axes>"
      ]
     },
     "metadata": {
      "needs_background": "light"
     },
     "output_type": "display_data"
    }
   ],
   "source": [
    "plt.plot(total_loss);"
   ]
  },
  {
   "cell_type": "code",
   "execution_count": 26,
   "id": "df8ba8fb-ddf4-49e6-bd1d-abc23a06b0b7",
   "metadata": {},
   "outputs": [
    {
     "data": {
      "image/png": "[encoded data removed]",
      "text/plain": [
       "<Figure size 432x288 with 1 Axes>"
      ]
     },
     "metadata": {
      "needs_background": "light"
     },
     "output_type": "display_data"
    }
   ],
   "source": [
    "plt.imshow(mods.detach().numpy().reshape(28,28),cmap='gray')\n",
    "plt.axis(False);"
   ]
  },
  {
   "cell_type": "markdown",
   "id": "0b17f8a7-702d-423f-b31a-1c9723c655f1",
   "metadata": {},
   "source": [
    "# Growing Spheres"
   ]
  },
  {
   "cell_type": "code",
   "execution_count": 52,
   "id": "c6eef470-e793-40e2-99ee-fcf3b451bd3c",
   "metadata": {},
   "outputs": [
    {
     "data": {
      "text/plain": [
       "0"
      ]
     },
     "execution_count": 52,
     "metadata": {},
     "output_type": "execute_result"
    }
   ],
   "source": [
    "from growingspheres import counterfactuals as cf\n",
    "\n",
    "def predict(q):\n",
    "    return neigh.predict(model(torch.tensor(q).float()).detach())\n",
    "idx = 1\n",
    "q = X_test[idx].reshape(1,-1).copy()\n",
    "pred = int(predict(q))\n",
    "pred"
   ]
  },
  {
   "cell_type": "code",
   "execution_count": 90,
   "id": "179f893e-aa7a-4af5-b52b-0132af508bd0",
   "metadata": {},
   "outputs": [
    {
     "name": "stdout",
     "output_type": "stream",
     "text": [
      "0 ennemies found in initial sphere. Zooming in...\n",
      "Exploring...\n",
      "Final number of iterations:  10\n",
      "Final radius:  (17.200000000000003, 19.000000000000004)\n",
      "Final number of ennemies:  1\n",
      "Feature selection...\n",
      "Reduced 702 coordinates\n"
     ]
    }
   ],
   "source": [
    "CF = cf.CounterfactualExplanation(q, predict, method='GS', target_class=8)\n",
    "CF.fit(n_in_layer=2000, first_radius=10, dicrease_radius=10, sparse=True, verbose=True)\n",
    "q_cf = CF.enemy"
   ]
  },
  {
   "cell_type": "code",
   "execution_count": 91,
   "id": "d36a38d3-21b1-4845-8146-c7115243df80",
   "metadata": {},
   "outputs": [
    {
     "data": {
      "text/plain": [
       "array([8])"
      ]
     },
     "execution_count": 91,
     "metadata": {},
     "output_type": "execute_result"
    }
   ],
   "source": [
    "predict(q_cf.reshape(1,-1))"
   ]
  },
  {
   "cell_type": "code",
   "execution_count": 93,
   "id": "deed8301-411c-45d0-89a6-40e4e8b75027",
   "metadata": {},
   "outputs": [
    {
     "data": {
      "image/png": "[encoded data removed]",
      "text/plain": [
       "<Figure size 432x288 with 1 Axes>"
      ]
     },
     "metadata": {
      "needs_background": "light"
     },
     "output_type": "display_data"
    }
   ],
   "source": [
    "plt.imshow(np.clip(q_cf,0,1).reshape(28,28),cmap='gray')\n",
    "plt.axis(False);"
   ]
  },
  {
   "cell_type": "code",
   "execution_count": null,
   "id": "61397b81-aad2-4448-9ec0-025f6172843e",
   "metadata": {},
   "outputs": [],
   "source": []
  },
  {
   "cell_type": "code",
   "execution_count": null,
   "id": "1bd71330-2557-4344-8ee4-59b95c7dcd4b",
   "metadata": {},
   "outputs": [],
   "source": []
  }
 ],
 "metadata": {
  "kernelspec": {
   "display_name": "Python 3",
   "language": "python",
   "name": "python3"
  },
  "language_info": {
   "codemirror_mode": {
    "name": "ipython",
    "version": 3
   },
   "file_extension": ".py",
   "mimetype": "text/x-python",
   "name": "python",
   "nbconvert_exporter": "python",
   "pygments_lexer": "ipython3",
   "version": "3.8.2"
  }
 },
 "nbformat": 4,
 "nbformat_minor": 5
}
